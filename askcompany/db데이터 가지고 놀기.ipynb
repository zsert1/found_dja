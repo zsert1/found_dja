{
 "cells": [
  {
   "cell_type": "code",
   "execution_count": 3,
   "id": "d05b8872",
   "metadata": {},
   "outputs": [],
   "source": [
    "import os\n",
    "os.environ['DJANGO_SETTINGS_MODULE']='askcompany.settings'\n",
    "os.environ['DJANGO_ALLOW_ASYNC_UNSAFE']='true'\n",
    "\n",
    "import django\n",
    "django.setup()"
   ]
  },
  {
   "cell_type": "code",
   "execution_count": 9,
   "id": "ff880f0a",
   "metadata": {},
   "outputs": [],
   "source": [
    "from instagram.models import Post,Tag"
   ]
  },
  {
   "cell_type": "code",
   "execution_count": 13,
   "id": "956a2e88",
   "metadata": {},
   "outputs": [
    {
     "data": {
      "text/plain": [
       "<Post: 네번째 메세지>"
      ]
     },
     "execution_count": 13,
     "metadata": {},
     "output_type": "execute_result"
    }
   ],
   "source": [
    "post=Post.objects.first()\n",
    "post"
   ]
  },
  {
   "cell_type": "code",
   "execution_count": 11,
   "id": "305cdd20",
   "metadata": {},
   "outputs": [
    {
     "data": {
      "text/plain": [
       "<Tag: 장고>"
      ]
     },
     "execution_count": 11,
     "metadata": {},
     "output_type": "execute_result"
    }
   ],
   "source": [
    "Tag.objects.create(name='장고')"
   ]
  },
  {
   "cell_type": "code",
   "execution_count": 12,
   "id": "7bd92883",
   "metadata": {},
   "outputs": [
    {
     "data": {
      "text/plain": [
       "<Tag: askcompany>"
      ]
     },
     "execution_count": 12,
     "metadata": {},
     "output_type": "execute_result"
    }
   ],
   "source": [
    "Tag.objects.create(name='askcompany')"
   ]
  },
  {
   "cell_type": "code",
   "execution_count": 16,
   "id": "80103f38",
   "metadata": {},
   "outputs": [],
   "source": [
    "tag=Tag.objects.get(name='장고')\n",
    "post.tag_set.add(tag)"
   ]
  },
  {
   "cell_type": "code",
   "execution_count": 17,
   "id": "471fbcfb",
   "metadata": {},
   "outputs": [
    {
     "data": {
      "text/plain": [
       "<QuerySet [<Tag: 장고>]>"
      ]
     },
     "execution_count": 17,
     "metadata": {},
     "output_type": "execute_result"
    }
   ],
   "source": [
    "post.tag_set.all()"
   ]
  },
  {
   "cell_type": "code",
   "execution_count": 18,
   "id": "4d0db389",
   "metadata": {},
   "outputs": [],
   "source": [
    "# 언팩문번 하나의 인자에 있는 것을 여러개로 푸는 것\n",
    "tag_qs=Tag.objects.all()\n",
    "post.tag_set.add(*tag_qs)"
   ]
  },
  {
   "cell_type": "code",
   "execution_count": 19,
   "id": "ed69e976",
   "metadata": {},
   "outputs": [
    {
     "data": {
      "text/plain": [
       "<QuerySet [<Tag: 파이썬>, <Tag: 파이썬2>, <Tag: 장고>, <Tag: askcompany>]>"
      ]
     },
     "execution_count": 19,
     "metadata": {},
     "output_type": "execute_result"
    }
   ],
   "source": [
    "post.tag_set.all()"
   ]
  },
  {
   "cell_type": "code",
   "execution_count": 21,
   "id": "1b5a5b1f",
   "metadata": {},
   "outputs": [],
   "source": [
    "# 언팩예제\n",
    "def myfun(a,b,c):\n",
    "    print(f\"a={a},b={b},c={c}\")\n"
   ]
  },
  {
   "cell_type": "code",
   "execution_count": 22,
   "id": "4f2b6246",
   "metadata": {},
   "outputs": [
    {
     "name": "stdout",
     "output_type": "stream",
     "text": [
      "a=1,b=2,c=3\n"
     ]
    }
   ],
   "source": [
    "params=[1,2,3]\n",
    "myfun(*params)"
   ]
  },
  {
   "cell_type": "code",
   "execution_count": null,
   "id": "cdbef6a7",
   "metadata": {},
   "outputs": [],
   "source": []
  }
 ],
 "metadata": {
  "kernelspec": {
   "display_name": "Python 3 (ipykernel)",
   "language": "python",
   "name": "python3"
  },
  "language_info": {
   "codemirror_mode": {
    "name": "ipython",
    "version": 3
   },
   "file_extension": ".py",
   "mimetype": "text/x-python",
   "name": "python",
   "nbconvert_exporter": "python",
   "pygments_lexer": "ipython3",
   "version": "3.11.5"
  }
 },
 "nbformat": 4,
 "nbformat_minor": 5
}
